{
 "cells": [
  {
   "cell_type": "markdown",
   "metadata": {},
   "source": [
    "# The Error of our solution for the eccentric anomaly.\n",
    "\n",
    "The idea is to calulate E in any time instant 't_i' using the approximate solution 'E_ap' and plug that E into the actual equation of E 'E_ac' to get a new time instant 't_f'. Then simply the error is equal to the difference between 't_f' and 't_i'."
   ]
  },
  {
   "cell_type": "code",
   "execution_count": 12,
   "metadata": {},
   "outputs": [],
   "source": [
    "from sympy import *\n",
    "init_printing()\n",
    "\n",
    "E_ac, E_ap, n, e_c, t_i, t_f = symbols(\"E_ac E_ap n e_c t_i t_f\")\n",
    "\n",
    "exp1 = Eq(E_ac - e_c*sin(E_ac), n*t_f) # The approximate solution\n",
    "\n",
    "E_ap = n*t_i + e_c*sin(n*t_i) # The actual equation"
   ]
  },
  {
   "cell_type": "markdown",
   "metadata": {},
   "source": [
    "The approximate solution:"
   ]
  },
  {
   "cell_type": "code",
   "execution_count": 13,
   "metadata": {},
   "outputs": [
    {
     "data": {
      "image/png": "[encoded data removed]",
      "text/latex": [
       "$$E_{ap} = e_{c} \\sin{\\left (n t_{i} \\right )} + n t_{i}$$"
      ],
      "text/plain": [
       "Eₐₚ = e_c⋅sin(n⋅tᵢ) + n⋅tᵢ"
      ]
     },
     "execution_count": 13,
     "metadata": {},
     "output_type": "execute_result"
    }
   ],
   "source": [
    "Eq(symbols(\"E_ap\"), E_ap)"
   ]
  },
  {
   "cell_type": "markdown",
   "metadata": {},
   "source": [
    "The actual equation:"
   ]
  },
  {
   "cell_type": "code",
   "execution_count": 2,
   "metadata": {},
   "outputs": [
    {
     "data": {
      "image/png": "[encoded data removed]",
      "text/latex": [
       "$$E_{ac} - e_{c} \\sin{\\left (E_{ac} \\right )} = n t_{f}$$"
      ],
      "text/plain": [
       "E_ac - e_c⋅sin(E_ac) = n⋅t_f"
      ]
     },
     "execution_count": 2,
     "metadata": {},
     "output_type": "execute_result"
    }
   ],
   "source": [
    "exp1"
   ]
  },
  {
   "cell_type": "markdown",
   "metadata": {},
   "source": [
    "Substitute E_ap into E_ac:"
   ]
  },
  {
   "cell_type": "code",
   "execution_count": 3,
   "metadata": {},
   "outputs": [
    {
     "data": {
      "image/png": "[encoded data removed]",
      "text/latex": [
       "$$e_{c} \\sin{\\left (n t_{i} \\right )} - e_{c} \\sin{\\left (e_{c} \\sin{\\left (n t_{i} \\right )} + n t_{i} \\right )} + n t_{i} = n t_{f}$$"
      ],
      "text/plain": [
       "e_c⋅sin(n⋅tᵢ) - e_c⋅sin(e_c⋅sin(n⋅tᵢ) + n⋅tᵢ) + n⋅tᵢ = n⋅t_f"
      ]
     },
     "execution_count": 3,
     "metadata": {},
     "output_type": "execute_result"
    }
   ],
   "source": [
    "expr2 = exp1.subs({E_ac:E_ap})\n",
    "expr2"
   ]
  },
  {
   "cell_type": "markdown",
   "metadata": {},
   "source": [
    "Solve for t_f:"
   ]
  },
  {
   "cell_type": "code",
   "execution_count": 10,
   "metadata": {},
   "outputs": [
    {
     "data": {
      "image/png": "[encoded data removed]",
      "text/latex": [
       "$$t_{f} = \\frac{1}{n} \\left(e_{c} \\sin{\\left (n t_{i} \\right )} - e_{c} \\sin{\\left (e_{c} \\sin{\\left (n t_{i} \\right )} + n t_{i} \\right )} + n t_{i}\\right)$$"
      ],
      "text/plain": [
       "      e_c⋅sin(n⋅tᵢ) - e_c⋅sin(e_c⋅sin(n⋅tᵢ) + n⋅tᵢ) + n⋅tᵢ\n",
       "t_f = ────────────────────────────────────────────────────\n",
       "                               n                          "
      ]
     },
     "execution_count": 10,
     "metadata": {},
     "output_type": "execute_result"
    }
   ],
   "source": [
    "t_ff = solveset(expr2, t_f).args[0]\n",
    "Eq(t_f, t_ff)"
   ]
  },
  {
   "cell_type": "markdown",
   "metadata": {},
   "source": [
    "Error = t_f - t_i "
   ]
  },
  {
   "cell_type": "code",
   "execution_count": 14,
   "metadata": {},
   "outputs": [
    {
     "data": {
      "image/png": "[encoded data removed]",
      "text/latex": [
       "$$Error = t_{f} - t_{i} = \\frac{e_{c}}{n} \\left(\\sin{\\left (n t_{i} \\right )} - \\sin{\\left (e_{c} \\sin{\\left (n t_{i} \\right )} + n t_{i} \\right )}\\right)$$"
      ],
      "text/plain": [
       "                   e_c⋅(sin(n⋅tᵢ) - sin(e_c⋅sin(n⋅tᵢ) + n⋅tᵢ))\n",
       "Error = t_f - tᵢ = ───────────────────────────────────────────\n",
       "                                        n                     "
      ]
     },
     "execution_count": 14,
     "metadata": {},
     "output_type": "execute_result"
    }
   ],
   "source": [
    "expr3 = t_ff - t_i\n",
    "Eq(symbols('Error'), Eq(t_f - t_i, expr3.simplify()))"
   ]
  },
  {
   "cell_type": "code",
   "execution_count": null,
   "metadata": {},
   "outputs": [],
   "source": []
  }
 ],
 "metadata": {
  "kernelspec": {
   "display_name": "Python 3",
   "language": "python",
   "name": "python3"
  },
  "language_info": {
   "codemirror_mode": {
    "name": "ipython",
    "version": 3
   },
   "file_extension": ".py",
   "mimetype": "text/x-python",
   "name": "python",
   "nbconvert_exporter": "python",
   "pygments_lexer": "ipython3",
   "version": "3.6.4"
  }
 },
 "nbformat": 4,
 "nbformat_minor": 2
}
