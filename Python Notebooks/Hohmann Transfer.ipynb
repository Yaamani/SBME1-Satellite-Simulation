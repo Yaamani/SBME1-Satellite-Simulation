{
 "cells": [
  {
   "cell_type": "code",
   "execution_count": 1,
   "metadata": {},
   "outputs": [],
   "source": [
    "from sympy import *\n",
    "import mpmath\n",
    "init_printing()\n",
    "\n",
    "'''\n",
    "r_GEO = 36000 + 6371 KM\n",
    "r_LEO = 2000 + 6371 KM\n",
    "\n",
    "G = 6.674e-11\n",
    "Me = 5.972e24\n",
    "'''\n",
    "\n",
    "M, E = symbols(\"M E\", Functions = True)\n",
    "e_c, a, G, M_e, r, mu = symbols(\"e_c a G M_e r mu\", Contstants = True)\n",
    "T_circular, T_elliptical, T_GEO, T_GTO, T_LEO, r_LEO, r_GEO, T_tot = symbols(\"T_circular T_elliptical T_GEO T_GTO T_LEO r_LEO r_GEO T_tot\", Constants = True)\n",
    "t, x, y, Y = symbols(\"t x y Y\", Variables = True)\n",
    "\n",
    "mu_calculated = (6.674e-11 * 5.972e24)"
   ]
  },
  {
   "cell_type": "markdown",
   "metadata": {},
   "source": [
    "The orbital period of a circular Orbit:"
   ]
  },
  {
   "cell_type": "code",
   "execution_count": 2,
   "metadata": {},
   "outputs": [
    {
     "data": {
      "image/png": "[encoded data removed]",
      "text/latex": [
       "$$T_{circular} = 2 \\pi \\sqrt{\\frac{r^{3}}{\\mu}}$$"
      ],
      "text/plain": [
       "                      ____\n",
       "                     ╱  3 \n",
       "                    ╱  r  \n",
       "T_circular = 2⋅π⋅  ╱   ── \n",
       "                 ╲╱    μ  "
      ]
     },
     "execution_count": 2,
     "metadata": {},
     "output_type": "execute_result"
    }
   ],
   "source": [
    "Eq(T_circular, 2*pi*sqrt(r**3 / mu))"
   ]
  },
  {
   "cell_type": "markdown",
   "metadata": {},
   "source": [
    "Where mu is: "
   ]
  },
  {
   "cell_type": "code",
   "execution_count": 3,
   "metadata": {},
   "outputs": [
    {
     "data": {
      "image/png": "[encoded data removed]",
      "text/latex": [
       "$$\\mu = G M_{e}$$"
      ],
      "text/plain": [
       "μ = G⋅Mₑ"
      ]
     },
     "execution_count": 3,
     "metadata": {},
     "output_type": "execute_result"
    }
   ],
   "source": [
    "Eq(mu, G*M_e)"
   ]
  },
  {
   "cell_type": "markdown",
   "metadata": {},
   "source": [
    "Then, the GEO's orbital period in hours is:"
   ]
  },
  {
   "cell_type": "code",
   "execution_count": 4,
   "metadata": {},
   "outputs": [
    {
     "data": {
      "image/png": "[encoded data removed]",
      "text/latex": [
       "$$T_{GEO} = 24.1116781433657$$"
      ],
      "text/plain": [
       "T_GEO = 24.1116781433657"
      ]
     },
     "execution_count": 4,
     "metadata": {},
     "output_type": "execute_result"
    }
   ],
   "source": [
    "r_GEO_Calculated = (36000 + 6371)*1000\n",
    "T_GEO_Calculated = 2*pi*sqrt(r_GEO_Calculated**3 / mu_calculated)\n",
    "Eq(T_GEO, T_GEO_Calculated.evalf()/60/60)"
   ]
  },
  {
   "cell_type": "markdown",
   "metadata": {},
   "source": [
    "And the LEO's orbital period in hours is:"
   ]
  },
  {
   "cell_type": "code",
   "execution_count": 5,
   "metadata": {},
   "outputs": [
    {
     "data": {
      "image/png": "[encoded data removed]",
      "text/latex": [
       "$$T_{LEO} = 2.11733891608671$$"
      ],
      "text/plain": [
       "T_LEO = 2.11733891608671"
      ]
     },
     "execution_count": 5,
     "metadata": {},
     "output_type": "execute_result"
    }
   ],
   "source": [
    "r_LEO_Calculated = (2000 + 6371)*1000\n",
    "T_LEO_Calculated = 2*pi*sqrt(r_LEO_Calculated**3 / mu_calculated)\n",
    "Eq(T_LEO, T_LEO_Calculated.evalf()/60/60)"
   ]
  },
  {
   "cell_type": "markdown",
   "metadata": {},
   "source": [
    "_____________________________________________\n",
    "# Finding the GTO.\n",
    "The goal is to get both 'e' (the eccentricity of our GTO) and 'a' (its semi-major axis). So, we need 2 eqns.\n",
    "\n",
    "The equation of the GEO (A circle equation):"
   ]
  },
  {
   "cell_type": "code",
   "execution_count": 6,
   "metadata": {},
   "outputs": [
    {
     "data": {
      "image/png": "[encoded data removed]",
      "text/latex": [
       "$$y^{2} = r^{2} - x^{2}$$"
      ],
      "text/plain": [
       " 2    2    2\n",
       "y  = r  - x "
      ]
     },
     "execution_count": 6,
     "metadata": {},
     "output_type": "execute_result"
    }
   ],
   "source": [
    "geo = Eq(y**2, r**2-x**2)\n",
    "geo"
   ]
  },
  {
   "cell_type": "markdown",
   "metadata": {},
   "source": [
    "The equation of the GTO (An ellipse equation):"
   ]
  },
  {
   "cell_type": "code",
   "execution_count": 7,
   "metadata": {},
   "outputs": [
    {
     "data": {
      "image/png": "[encoded data removed]",
      "text/latex": [
       "$$\\frac{y^{2}}{a^{2}} \\left(- e_{c}^{2} + 1\\right) + \\frac{1}{a^{2}} \\left(a e_{c} + x\\right)^{2} = 1$$"
      ],
      "text/plain": [
       " 2 ⎛     2    ⎞              2    \n",
       "y ⋅⎝- e_c  + 1⎠   (a⋅e_c + x)     \n",
       "─────────────── + ──────────── = 1\n",
       "        2               2         \n",
       "       a               a          "
      ]
     },
     "execution_count": 7,
     "metadata": {},
     "output_type": "execute_result"
    }
   ],
   "source": [
    "gto = Eq(((x+a*e_c)**2/a**2)+(y**2/a**2*(1-e_c**2)), 1)\n",
    "gto"
   ]
  },
  {
   "cell_type": "markdown",
   "metadata": {},
   "source": [
    "We Wanna solve these two eqns to get the semi-major axis of our GTO and the raduis of our LEO."
   ]
  },
  {
   "cell_type": "markdown",
   "metadata": {},
   "source": [
    "first, substitute the GEO's eqn in the GTO's eqn."
   ]
  },
  {
   "cell_type": "code",
   "execution_count": 8,
   "metadata": {
    "scrolled": true
   },
   "outputs": [
    {
     "data": {
      "image/png": "[encoded data removed]",
      "text/latex": [
       "$$\\frac{1}{a^{2}} \\left(- e_{c}^{2} + 1\\right) \\left(r^{2} - x^{2}\\right) + \\frac{1}{a^{2}} \\left(a e_{c} + x\\right)^{2} = 1$$"
      ],
      "text/plain": [
       "⎛     2    ⎞ ⎛ 2    2⎞              2    \n",
       "⎝- e_c  + 1⎠⋅⎝r  - x ⎠   (a⋅e_c + x)     \n",
       "────────────────────── + ──────────── = 1\n",
       "           2                   2         \n",
       "          a                   a          "
      ]
     },
     "execution_count": 8,
     "metadata": {},
     "output_type": "execute_result"
    }
   ],
   "source": [
    "toSolve = gto.subs({y**2:geo.rhs})\n",
    "toSolve"
   ]
  },
  {
   "cell_type": "markdown",
   "metadata": {},
   "source": [
    "Now we can solve for x."
   ]
  },
  {
   "cell_type": "code",
   "execution_count": 9,
   "metadata": {},
   "outputs": [
    {
     "data": {
      "image/png": "[encoded data removed]",
      "text/latex": [
       "$$\\left\\{- \\frac{a}{e_{c}} - \\frac{1}{e_{c}} \\sqrt{- a^{2} e_{c}^{2} + 2 a^{2} + e_{c}^{2} r^{2} - r^{2}}, - \\frac{a}{e_{c}} + \\frac{1}{e_{c}} \\sqrt{- a^{2} e_{c}^{2} + 2 a^{2} + e_{c}^{2} r^{2} - r^{2}}\\right\\}$$"
      ],
      "text/plain": [
       "⎧           _________________________________             ____________________\n",
       "⎪          ╱    2    2      2      2  2    2             ╱    2    2      2   \n",
       "⎨   a    ╲╱  - a ⋅e_c  + 2⋅a  + e_c ⋅r  - r       a    ╲╱  - a ⋅e_c  + 2⋅a  + \n",
       "⎪- ─── - ────────────────────────────────────, - ─── + ───────────────────────\n",
       "⎩  e_c                   e_c                     e_c                   e_c    \n",
       "\n",
       "_____________⎫\n",
       "   2  2    2 ⎪\n",
       "e_c ⋅r  - r  ⎬\n",
       "─────────────⎪\n",
       "             ⎭"
      ]
     },
     "execution_count": 9,
     "metadata": {},
     "output_type": "execute_result"
    }
   ],
   "source": [
    "solX = solveset(toSolve, x)\n",
    "solX"
   ]
  },
  {
   "cell_type": "markdown",
   "metadata": {},
   "source": [
    "Now we can calculate the y coordinate for each x."
   ]
  },
  {
   "cell_type": "code",
   "execution_count": 10,
   "metadata": {},
   "outputs": [
    {
     "data": {
      "image/png": "[encoded data removed]",
      "text/latex": [
       "$$\\left\\{- \\frac{1}{e_{c}} \\sqrt{a^{2} e_{c}^{2} - 3 a^{2} + 2 a \\sqrt{- a^{2} e_{c}^{2} + 2 a^{2} + e_{c}^{2} r^{2} - r^{2}} + r^{2}}, \\frac{1}{e_{c}} \\sqrt{a^{2} e_{c}^{2} - 3 a^{2} + 2 a \\sqrt{- a^{2} e_{c}^{2} + 2 a^{2} + e_{c}^{2} r^{2} - r^{2}} + r^{2}}\\right\\}$$"
      ],
      "text/plain": [
       "⎧     ________________________________________________________________       _\n",
       "⎪    ╱                         _________________________________            ╱ \n",
       "⎪   ╱   2    2      2         ╱    2    2      2      2  2    2     2      ╱  \n",
       "⎨-╲╱   a ⋅e_c  - 3⋅a  + 2⋅a⋅╲╱  - a ⋅e_c  + 2⋅a  + e_c ⋅r  - r   + r     ╲╱   \n",
       "⎪──────────────────────────────────────────────────────────────────────, ─────\n",
       "⎪                                 e_c                                         \n",
       "⎩                                                                             \n",
       "\n",
       "_______________________________________________________________⎫\n",
       "                        _________________________________      ⎪\n",
       " 2    2      2         ╱    2    2      2      2  2    2     2 ⎪\n",
       "a ⋅e_c  - 3⋅a  + 2⋅a⋅╲╱  - a ⋅e_c  + 2⋅a  + e_c ⋅r  - r   + r  ⎬\n",
       "───────────────────────────────────────────────────────────────⎪\n",
       "                           e_c                                 ⎪\n",
       "                                                               ⎭"
      ]
     },
     "execution_count": 10,
     "metadata": {},
     "output_type": "execute_result"
    }
   ],
   "source": [
    "solY1 = solveset(Eq(geo.lhs, geo.rhs.subs({x:list(solX)[0]})), y)\n",
    "solY1"
   ]
  },
  {
   "cell_type": "code",
   "execution_count": 11,
   "metadata": {},
   "outputs": [
    {
     "data": {
      "image/png": "[encoded data removed]",
      "text/latex": [
       "$$\\left\\{- \\frac{1}{e_{c}} \\sqrt{a^{2} e_{c}^{2} - 3 a^{2} - 2 a \\sqrt{- a^{2} e_{c}^{2} + 2 a^{2} + e_{c}^{2} r^{2} - r^{2}} + r^{2}}, \\frac{1}{e_{c}} \\sqrt{a^{2} e_{c}^{2} - 3 a^{2} - 2 a \\sqrt{- a^{2} e_{c}^{2} + 2 a^{2} + e_{c}^{2} r^{2} - r^{2}} + r^{2}}\\right\\}$$"
      ],
      "text/plain": [
       "⎧     ________________________________________________________________       _\n",
       "⎪    ╱                         _________________________________            ╱ \n",
       "⎪   ╱   2    2      2         ╱    2    2      2      2  2    2     2      ╱  \n",
       "⎨-╲╱   a ⋅e_c  - 3⋅a  - 2⋅a⋅╲╱  - a ⋅e_c  + 2⋅a  + e_c ⋅r  - r   + r     ╲╱   \n",
       "⎪──────────────────────────────────────────────────────────────────────, ─────\n",
       "⎪                                 e_c                                         \n",
       "⎩                                                                             \n",
       "\n",
       "_______________________________________________________________⎫\n",
       "                        _________________________________      ⎪\n",
       " 2    2      2         ╱    2    2      2      2  2    2     2 ⎪\n",
       "a ⋅e_c  - 3⋅a  - 2⋅a⋅╲╱  - a ⋅e_c  + 2⋅a  + e_c ⋅r  - r   + r  ⎬\n",
       "───────────────────────────────────────────────────────────────⎪\n",
       "                           e_c                                 ⎪\n",
       "                                                               ⎭"
      ]
     },
     "execution_count": 11,
     "metadata": {},
     "output_type": "execute_result"
    }
   ],
   "source": [
    "solY2 = solveset(Eq(geo.lhs, geo.rhs.subs({x:list(solX)[1]})), y)\n",
    "solY2"
   ]
  },
  {
   "cell_type": "markdown",
   "metadata": {},
   "source": [
    "We have 4 different possible points for the intersection between a circle and an ellipse, but the intersection between the GEO and the GTO is going to be at only one point with an x coordinate of '-r_GEO' (the radius of the GEO). \n",
    "\n",
    "Now, we can get the first eqn."
   ]
  },
  {
   "cell_type": "code",
   "execution_count": 12,
   "metadata": {},
   "outputs": [
    {
     "data": {
      "image/png": "[encoded data removed]",
      "text/latex": [
       "$$\\left\\{a\\; |\\; a \\in \\left\\{\\frac{r_{GEO}}{e_{c} - 1}, \\frac{r_{GEO}}{e_{c} + 1}\\right\\} \\wedge - a + e_{c} r_{GEO} + \\sqrt{- a^{2} e_{c}^{2} + 2 a^{2} + e_{c}^{2} r_{GEO}^{2} - r_{GEO}^{2}} = 0 \\right\\}$$"
      ],
      "text/plain": [
       "⎧                                                 ____________________________\n",
       "⎪        ⎧ r_GEO    r_GEO ⎫                      ╱    2    2      2      2    \n",
       "⎨a | a ∊ ⎨───────, ───────⎬ ∧ -a + e_c⋅r_GEO + ╲╱  - a ⋅e_c  + 2⋅a  + e_c ⋅r_G\n",
       "⎪        ⎩e_c - 1  e_c + 1⎭                                                   \n",
       "⎩                                                                             \n",
       "\n",
       "_____________    ⎫\n",
       "  2        2     ⎪\n",
       "EO  - r_GEO   = 0⎬\n",
       "                 ⎪\n",
       "                 ⎭"
      ]
     },
     "execution_count": 12,
     "metadata": {},
     "output_type": "execute_result"
    }
   ],
   "source": [
    "geoAndGtoIntersection = solveset(Eq(list(solX)[0], -r_GEO).subs({r:r_GEO}), a)\n",
    "geoAndGtoIntersection"
   ]
  },
  {
   "cell_type": "markdown",
   "metadata": {},
   "source": [
    "Surbrisingly, there are 2 possible values for a. But we're not interrested in the negative value. So our first eqn is:"
   ]
  },
  {
   "cell_type": "code",
   "execution_count": 13,
   "metadata": {},
   "outputs": [
    {
     "data": {
      "image/png": "[encoded data removed]",
      "text/latex": [
       "$$a = \\frac{r_{GEO}}{e_{c} + 1}$$"
      ],
      "text/plain": [
       "     r_GEO \n",
       "a = ───────\n",
       "    e_c + 1"
      ]
     },
     "execution_count": 13,
     "metadata": {},
     "output_type": "execute_result"
    }
   ],
   "source": [
    "eqn1 = Eq(a, list(list(geoAndGtoIntersection.args)[2])[1])\n",
    "eqn1"
   ]
  },
  {
   "cell_type": "markdown",
   "metadata": {},
   "source": [
    "To get another eqn, we can do the same but this time with the LOE.\n",
    "\n",
    "The intersection between our LEO and GTO is exactly at the x coordinate of 'r_LEO'."
   ]
  },
  {
   "cell_type": "code",
   "execution_count": 14,
   "metadata": {},
   "outputs": [
    {
     "data": {
      "image/png": "[encoded data removed]",
      "text/latex": [
       "$$\\left\\{a\\; |\\; a \\in \\left\\{- \\frac{r_{LEO}}{e_{c} - 1}, - \\frac{r_{LEO}}{e_{c} + 1}\\right\\} \\wedge - a - e_{c} r_{LEO} - \\sqrt{- a^{2} e_{c}^{2} + 2 a^{2} + e_{c}^{2} r_{LEO}^{2} - r_{LEO}^{2}} = 0 \\right\\}$$"
      ],
      "text/plain": [
       "⎧                                                 ____________________________\n",
       "⎪        ⎧-r_LEO   -r_LEO ⎫                      ╱    2    2      2      2    \n",
       "⎨a | a ∊ ⎨───────, ───────⎬ ∧ -a - e_c⋅r_LEO - ╲╱  - a ⋅e_c  + 2⋅a  + e_c ⋅r_L\n",
       "⎪        ⎩e_c - 1  e_c + 1⎭                                                   \n",
       "⎩                                                                             \n",
       "\n",
       "_____________    ⎫\n",
       "  2        2     ⎪\n",
       "EO  - r_LEO   = 0⎬\n",
       "                 ⎪\n",
       "                 ⎭"
      ]
     },
     "execution_count": 14,
     "metadata": {},
     "output_type": "execute_result"
    }
   ],
   "source": [
    "gtoAndLeoIntersection = solveset(Eq(list(solX)[1], r).subs({r:r_LEO}), a)\n",
    "gtoAndLeoIntersection"
   ]
  },
  {
   "cell_type": "markdown",
   "metadata": {},
   "source": [
    "Again, there are 2 possible values for 'r_LEO' but we need the positive one."
   ]
  },
  {
   "cell_type": "code",
   "execution_count": 15,
   "metadata": {
    "scrolled": true
   },
   "outputs": [
    {
     "data": {
      "image/png": "[encoded data removed]",
      "text/latex": [
       "$$a = - \\frac{r_{LEO}}{e_{c} - 1}$$"
      ],
      "text/plain": [
       "    -r_LEO \n",
       "a = ───────\n",
       "    e_c - 1"
      ]
     },
     "execution_count": 15,
     "metadata": {},
     "output_type": "execute_result"
    }
   ],
   "source": [
    "eqn2 = Eq(a, list(list(gtoAndLeoIntersection.args)[2])[0])\n",
    "eqn2"
   ]
  },
  {
   "cell_type": "markdown",
   "metadata": {},
   "source": [
    "This is the positive because 0 < e_c < 1.\n",
    "\n",
    "Now, we have 2 eqns and 2 variables. And we're ready to get 'a' and 'e_c'"
   ]
  },
  {
   "cell_type": "code",
   "execution_count": 16,
   "metadata": {
    "scrolled": true
   },
   "outputs": [
    {
     "data": {
      "image/png": "[encoded data removed]",
      "text/latex": [
       "$$e_{c} = \\frac{17000}{25371}$$"
      ],
      "text/plain": [
       "      17000\n",
       "e_c = ─────\n",
       "      25371"
      ]
     },
     "execution_count": 16,
     "metadata": {},
     "output_type": "execute_result"
    }
   ],
   "source": [
    "e_c_Exp = Eq(e_c, solveset(eqn1.subs({a:eqn2.rhs, r_GEO:r_GEO_Calculated, r_LEO:r_LEO_Calculated}), e_c).args[0])\n",
    "e_c_Calculated = e_c_Exp.rhs\n",
    "e_c_Exp"
   ]
  },
  {
   "cell_type": "code",
   "execution_count": 17,
   "metadata": {
    "scrolled": false
   },
   "outputs": [
    {
     "data": {
      "image/png": "[encoded data removed]",
      "text/latex": [
       "$$a = 25371000$$"
      ],
      "text/plain": [
       "a = 25371000"
      ]
     },
     "execution_count": 17,
     "metadata": {},
     "output_type": "execute_result"
    }
   ],
   "source": [
    "s = solveset(eqn2.subs({r_LEO:r_LEO_Calculated, e_c:e_c_Calculated})).args[0]\n",
    "a_Exp = Eq(a, s)\n",
    "a_Calculated = a_Exp.rhs\n",
    "a_Exp"
   ]
  },
  {
   "cell_type": "markdown",
   "metadata": {},
   "source": [
    "There's another way for finding 'a'."
   ]
  },
  {
   "cell_type": "code",
   "execution_count": 18,
   "metadata": {
    "scrolled": true
   },
   "outputs": [
    {
     "data": {
      "text/plain": [
       "<matplotlib.figure.Figure at 0x11423ef98>"
      ]
     },
     "metadata": {},
     "output_type": "display_data"
    }
   ],
   "source": [
    "p1 = plot(sqrt(r_GEO_Calculated**2-x**2), -sqrt(r_GEO_Calculated**2-x**2), sqrt(r_LEO_Calculated**2-x**2), -sqrt(r_LEO_Calculated**2-x**2), sqrt(a_Calculated**2*(1-e_c_Calculated**2)*(1-((x+a_Calculated*e_c_Calculated)**2/a_Calculated**2))), -sqrt(a_Calculated**2*(1-e_c_Calculated**2)*(1-((x+a_Calculated*e_c_Calculated)**2/a_Calculated**2))),(x, -5*10**7, 5*10**7),xlim = (-7.5*10**7, 7.5*10**7), ylim=((-5*10**7, 5*10**7)))"
   ]
  },
  {
   "cell_type": "markdown",
   "metadata": {},
   "source": [
    "From the geometry we can say that:"
   ]
  },
  {
   "cell_type": "code",
   "execution_count": 22,
   "metadata": {},
   "outputs": [
    {
     "data": {
      "image/png": "[encoded data removed]",
      "text/latex": [
       "$$a = \\frac{r_{GEO}}{2} + \\frac{r_{LEO}}{2}$$"
      ],
      "text/plain": [
       "    r_GEO   r_LEO\n",
       "a = ───── + ─────\n",
       "      2       2  "
      ]
     },
     "execution_count": 22,
     "metadata": {},
     "output_type": "execute_result"
    }
   ],
   "source": [
    "Eq(a, (r_LEO + r_GEO)/2)"
   ]
  },
  {
   "cell_type": "markdown",
   "metadata": {},
   "source": [
    "This could've saved us a lot of math work :)"
   ]
  },
  {
   "cell_type": "markdown",
   "metadata": {},
   "source": [
    "__________________________________\n",
    "# Now let's calculate the periods."
   ]
  },
  {
   "cell_type": "markdown",
   "metadata": {},
   "source": [
    "The orbital period of an elliptical orbit is:"
   ]
  },
  {
   "cell_type": "code",
   "execution_count": null,
   "metadata": {},
   "outputs": [],
   "source": [
    "Eq(T_elliptical, 2*pi*sqrt(a**3 / mu))"
   ]
  },
  {
   "cell_type": "code",
   "execution_count": null,
   "metadata": {
    "scrolled": false
   },
   "outputs": [],
   "source": [
    "T_GTO_Calculated = 2*pi*sqrt(a_Calculated**3/mu_calculated)\n",
    "Eq(T_GTO, T_GTO_Calculated.evalf()/60/60)"
   ]
  },
  {
   "cell_type": "markdown",
   "metadata": {},
   "source": [
    "So, the total time required to put our satellite in a GEO using Hohmann transfer is:"
   ]
  },
  {
   "cell_type": "code",
   "execution_count": null,
   "metadata": {},
   "outputs": [],
   "source": [
    "Eq(T_tot, T_GTO / 2 + T_LEO / 2)"
   ]
  },
  {
   "cell_type": "markdown",
   "metadata": {},
   "source": [
    "The total time required to put our satellite in a GEO of a 36,000 Kilometers above sea level in hours is:"
   ]
  },
  {
   "cell_type": "code",
   "execution_count": null,
   "metadata": {},
   "outputs": [],
   "source": [
    "Eq(T_tot, (T_GTO_Calculated / 2 + T_LEO_Calculated / 2).evalf()/60/60)"
   ]
  }
 ],
 "metadata": {
  "kernelspec": {
   "display_name": "Python 3",
   "language": "python",
   "name": "python3"
  },
  "language_info": {
   "codemirror_mode": {
    "name": "ipython",
    "version": 3
   },
   "file_extension": ".py",
   "mimetype": "text/x-python",
   "name": "python",
   "nbconvert_exporter": "python",
   "pygments_lexer": "ipython3",
   "version": "3.6.4"
  }
 },
 "nbformat": 4,
 "nbformat_minor": 2
}
